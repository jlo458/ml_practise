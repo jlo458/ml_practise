{
  "metadata": {
    "kernelspec": {
      "name": "xpython",
      "display_name": "Python 3.13 (XPython)",
      "language": "python"
    },
    "language_info": {
      "file_extension": ".py",
      "mimetype": "text/x-python",
      "name": "python",
      "version": "3.13.1"
    }
  },
  "nbformat_minor": 5,
  "nbformat": 4,
  "cells": [
    {
      "id": "d33cea1c-2438-4167-9fdc-e999f46430cb",
      "cell_type": "code",
      "source": "%conda install -c conda-forge pandas\n%conda install -c conda-forge scikit-learn",
      "metadata": {
        "trusted": true
      },
      "outputs": [
        {
          "name": "stdout",
          "output_type": "stream",
          "text": "Solving environment...\nSolving took 1.1705999999046326 seconds\n  Name                          Version                       Build                         Channel                       \n────────────────────────────────────────────────────────────────────────────────────────────────────────────────────────\n\u001b[0;31m~ comm                          \u001b[0m0.2.2 -> 0.2.3                pyhd8ed1ab_1 -> pyhe01879c_0  https://repo.prefix.dev/conda-forge -> https://repo.prefix.dev/conda-forge/\n\u001b[0;31m~ contourpy                     \u001b[0m1.3.2 -> 1.3.3                py313h3a67976_0 -> py313h3a67976_1https://repo.prefix.dev/emscripten-forge-dev -> https://repo.prefix.dev/emscripten-forge-dev/\n\u001b[0;31m~ emscripten-abi                \u001b[0m3.1.73 -> 3.1.73              h267e887_10 -> h267e887_12    https://repo.prefix.dev/emscripten-forge-dev -> https://repo.prefix.dev/emscripten-forge-dev/\n\u001b[0;31m~ fonttools                     \u001b[0m4.39.4 -> 4.39.4              h7223423_0 -> py313h6e18b15_1 https://repo.prefix.dev/emscripten-forge-dev -> https://repo.prefix.dev/emscripten-forge-dev/\n\u001b[0;31m~ ipython                       \u001b[0m9.3.0 -> 9.5.0                py313h6e18b15_3 -> py313hd355c7d_0https://repo.prefix.dev/emscripten-forge-dev -> https://repo.prefix.dev/emscripten-forge-dev/\n\u001b[0;31m~ matplotlib                    \u001b[0m3.10.3 -> 3.10.6              py313h4cda388_0 -> py313hec26ece_0https://repo.prefix.dev/emscripten-forge-dev -> https://repo.prefix.dev/emscripten-forge-dev/\n\u001b[0;31m~ matplotlib-base               \u001b[0m3.10.3 -> 3.10.6              np22py313h3e6ff68_0 -> np22py313h4202e73_0https://repo.prefix.dev/emscripten-forge-dev -> https://repo.prefix.dev/emscripten-forge-dev/\n\u001b[0;31m~ numpy                         \u001b[0m2.3.1 -> 2.3.3                py313h6394566_1 -> py313h6394566_0https://repo.prefix.dev/emscripten-forge-dev -> https://repo.prefix.dev/emscripten-forge-dev/\n\u001b[0;31m~ openblas                      \u001b[0m0.3.26 -> 0.3.26              he2bab3c_13 -> he2bab3c_14    https://repo.prefix.dev/emscripten-forge-dev -> https://repo.prefix.dev/emscripten-forge-dev/\n\u001b[0;32m+ pandas                        \u001b[0m2.3.2                         np22py313h9d9dc1e_0           https://repo.prefix.dev/emscripten-forge-dev/\n\u001b[0;31m~ pyparsing                     \u001b[0m3.2.3 -> 3.2.5                pyhd8ed1ab_1 -> pyhcf101f3_0  https://repo.prefix.dev/conda-forge -> https://repo.prefix.dev/conda-forge/\n\u001b[0;31m~ python_abi                    \u001b[0m3.13.1 -> 3.13.1              0_cp313 -> 1_cp313            https://repo.prefix.dev/emscripten-forge-dev -> https://repo.prefix.dev/emscripten-forge-dev/\n\u001b[0;32m+ python-tzdata                 \u001b[0m2025.2                        pyhd8ed1ab_0                  https://repo.prefix.dev/conda-forge/\n\u001b[0;31m~ six                           \u001b[0m1.17.0 -> 1.17.0              pyhd8ed1ab_0 -> pyhe01879c_1  https://repo.prefix.dev/conda-forge -> https://repo.prefix.dev/conda-forge/\n\u001b[0;31m~ typing_extensions             \u001b[0m4.14.0 -> 4.15.0              pyhe01879c_0 -> pyhcf101f3_0  https://repo.prefix.dev/conda-forge -> https://repo.prefix.dev/conda-forge/\n\u001b[0;31m~ wcwidth                       \u001b[0m0.2.13 -> 0.2.14              pyhd8ed1ab_1 -> pyhd8ed1ab_0  https://repo.prefix.dev/conda-forge -> https://repo.prefix.dev/conda-forge/\nUninstalling six 1.17.0\nUninstalling comm 0.2.2\nUninstalling emscripten-abi 3.1.73\nUninstalling python_abi 3.13.1\nUninstalling pyparsing 3.2.3\nUninstalling openblas 0.3.26\nUninstalling fonttools 4.39.4\nUninstalling matplotlib 3.10.3\nUninstalling ipython 9.3.0\nUninstalling contourpy 1.3.2\nUninstalling wcwidth 0.2.13\nUninstalling matplotlib-base 3.10.3\nUninstalling numpy 2.3.1\nUninstalling typing_extensions 4.14.0\nInstalling pandas-2.3.2-np22py313h9d9dc1e_0.tar.bz2\nInstalling six-1.17.0-pyhe01879c_1.conda\nInstalling comm-0.2.3-pyhe01879c_0.conda\nInstalling emscripten-abi-3.1.73-h267e887_12.tar.bz2\nInstalling python_abi-3.13.1-1_cp313.tar.bz2\nInstalling pyparsing-3.2.5-pyhcf101f3_0.conda\nInstalling openblas-0.3.26-he2bab3c_14.tar.bz2\nInstalling fonttools-4.39.4-py313h6e18b15_1.tar.bz2\nInstalling matplotlib-3.10.6-py313hec26ece_0.tar.bz2\nInstalling matplotlib-base-3.10.6-np22py313h4202e73_0.tar.bz2\nInstalling ipython-9.5.0-py313hd355c7d_0.tar.bz2\nInstalling contourpy-1.3.3-py313h3a67976_1.tar.bz2\nInstalling wcwidth-0.2.14-pyhd8ed1ab_0.conda\nInstalling numpy-2.3.3-py313h6394566_0.tar.bz2\nInstalling typing_extensions-4.15.0-pyhcf101f3_0.conda\nInstalling python-tzdata-2025.2-pyhd8ed1ab_0.conda\nLoading shared libraries from fonttools\nLoading shared libraries from contourpy\nLoading shared libraries from pandas\nLoading shared libraries from openblas\nLoading shared libraries from numpy\nLoading shared libraries from matplotlib-base\nSolving environment...\nSolving took 0.6121999998092651 seconds\n  Name                          Version                       Build                         Channel                       \n────────────────────────────────────────────────────────────────────────────────────────────────────────────────────────\n\u001b[0;32m+ brotli-python                 \u001b[0m1.1.0                         h7223423_0                    https://repo.prefix.dev/emscripten-forge-dev/\n\u001b[0;32m+ certifi                       \u001b[0m2025.8.3                      pyhd8ed1ab_0                  https://repo.prefix.dev/conda-forge/\n\u001b[0;32m+ charset-normalizer            \u001b[0m3.4.3                         pyhd8ed1ab_0                  https://repo.prefix.dev/conda-forge/\n\u001b[0;32m+ idna                          \u001b[0m3.10                          pyhd8ed1ab_1                  https://repo.prefix.dev/conda-forge/\n\u001b[0;32m+ joblib                        \u001b[0m1.5.2                         py313h1804a44_0               https://repo.prefix.dev/emscripten-forge-dev/\n\u001b[0;32m+ pysocks                       \u001b[0m1.7.1                         py313h945b378_1               https://repo.prefix.dev/emscripten-forge-dev/\n\u001b[0;32m+ requests                      \u001b[0m2.32.5                        pyhd8ed1ab_0                  https://repo.prefix.dev/conda-forge/\n\u001b[0;32m+ scikit-learn                  \u001b[0m1.7.2                         np22py313h2c67255_0           https://repo.prefix.dev/emscripten-forge-dev/\n\u001b[0;32m+ setuptools                    \u001b[0m80.9.0                        pyhff2d567_0                  https://repo.prefix.dev/conda-forge/\n\u001b[0;32m+ threadpoolctl                 \u001b[0m3.6.0                         pyhecae5ae_0                  https://repo.prefix.dev/conda-forge/\n\u001b[0;32m+ urllib3                       \u001b[0m2.2.2                         pyhd8ed1ab_0                  https://repo.prefix.dev/conda-forge/\nInstalling scikit-learn-1.7.2-np22py313h2c67255_0.tar.bz2\nInstalling joblib-1.5.2-py313h1804a44_0.tar.bz2\nInstalling threadpoolctl-3.6.0-pyhecae5ae_0.conda\nInstalling requests-2.32.5-pyhd8ed1ab_0.conda\nInstalling setuptools-80.9.0-pyhff2d567_0.conda\nInstalling certifi-2025.8.3-pyhd8ed1ab_0.conda\nInstalling charset-normalizer-3.4.3-pyhd8ed1ab_0.conda\nInstalling idna-3.10-pyhd8ed1ab_1.conda\nInstalling urllib3-2.2.2-pyhd8ed1ab_0.conda\nInstalling brotli-python-1.1.0-h7223423_0.tar.bz2\nInstalling pysocks-1.7.1-py313h945b378_1.tar.bz2\nLoading shared libraries from brotli-python\nLoading shared libraries from scikit-learn\n"
        }
      ],
      "execution_count": 2
    },
    {
      "id": "26453aba-bd30-4947-8f84-bb34b23c9603",
      "cell_type": "code",
      "source": "from matplotlib import pyplot as plt\nimport numpy as np\nimport pandas as pd \nimport sklearn\n\ndata = pd.read_csv(\"preprocessed_TEST_data3.csv\")\ndata\n\n",
      "metadata": {
        "trusted": true
      },
      "outputs": [
        {
          "execution_count": 3,
          "output_type": "execute_result",
          "data": {
            "text/html": "<div>\n<style scoped>\n    .dataframe tbody tr th:only-of-type {\n        vertical-align: middle;\n    }\n\n    .dataframe tbody tr th {\n        vertical-align: top;\n    }\n\n    .dataframe thead th {\n        text-align: right;\n    }\n</style>\n<table border=\"1\" class=\"dataframe\">\n  <thead>\n    <tr style=\"text-align: right;\">\n      <th></th>\n      <th>SibSp</th>\n      <th>Parch</th>\n      <th>Fare</th>\n      <th>sex_female</th>\n      <th>sex_male</th>\n      <th>embarked_C</th>\n      <th>embarked_Q</th>\n      <th>embarked_S</th>\n      <th>embarked_U</th>\n      <th>Pclass_1</th>\n      <th>Pclass_2</th>\n      <th>Pclass_3</th>\n      <th>Cat_Age_(0, 10]</th>\n      <th>Cat_Age_(10, 20]</th>\n      <th>Cat_Age_(20, 30]</th>\n      <th>Cat_Age_(30, 40]</th>\n      <th>Cat_Age_(40, 50]</th>\n      <th>Cat_Age_(50, 60]</th>\n      <th>Cat_Age_(60, 70]</th>\n      <th>Cat_Age_(70, 80]</th>\n    </tr>\n  </thead>\n  <tbody>\n    <tr>\n      <th>0</th>\n      <td>0</td>\n      <td>0</td>\n      <td>7.8292</td>\n      <td>False</td>\n      <td>True</td>\n      <td>False</td>\n      <td>True</td>\n      <td>False</td>\n      <td>0</td>\n      <td>False</td>\n      <td>False</td>\n      <td>True</td>\n      <td>False</td>\n      <td>False</td>\n      <td>False</td>\n      <td>True</td>\n      <td>False</td>\n      <td>False</td>\n      <td>False</td>\n      <td>False</td>\n    </tr>\n    <tr>\n      <th>1</th>\n      <td>1</td>\n      <td>0</td>\n      <td>7.0000</td>\n      <td>True</td>\n      <td>False</td>\n      <td>False</td>\n      <td>False</td>\n      <td>True</td>\n      <td>0</td>\n      <td>False</td>\n      <td>False</td>\n      <td>True</td>\n      <td>False</td>\n      <td>False</td>\n      <td>False</td>\n      <td>False</td>\n      <td>True</td>\n      <td>False</td>\n      <td>False</td>\n      <td>False</td>\n    </tr>\n    <tr>\n      <th>2</th>\n      <td>0</td>\n      <td>0</td>\n      <td>9.6875</td>\n      <td>False</td>\n      <td>True</td>\n      <td>False</td>\n      <td>True</td>\n      <td>False</td>\n      <td>0</td>\n      <td>False</td>\n      <td>True</td>\n      <td>False</td>\n      <td>False</td>\n      <td>False</td>\n      <td>False</td>\n      <td>False</td>\n      <td>False</td>\n      <td>False</td>\n      <td>True</td>\n      <td>False</td>\n    </tr>\n    <tr>\n      <th>3</th>\n      <td>0</td>\n      <td>0</td>\n      <td>8.6625</td>\n      <td>False</td>\n      <td>True</td>\n      <td>False</td>\n      <td>False</td>\n      <td>True</td>\n      <td>0</td>\n      <td>False</td>\n      <td>False</td>\n      <td>True</td>\n      <td>False</td>\n      <td>False</td>\n      <td>True</td>\n      <td>False</td>\n      <td>False</td>\n      <td>False</td>\n      <td>False</td>\n      <td>False</td>\n    </tr>\n    <tr>\n      <th>4</th>\n      <td>1</td>\n      <td>1</td>\n      <td>12.2875</td>\n      <td>True</td>\n      <td>False</td>\n      <td>False</td>\n      <td>False</td>\n      <td>True</td>\n      <td>0</td>\n      <td>False</td>\n      <td>False</td>\n      <td>True</td>\n      <td>False</td>\n      <td>False</td>\n      <td>True</td>\n      <td>False</td>\n      <td>False</td>\n      <td>False</td>\n      <td>False</td>\n      <td>False</td>\n    </tr>\n    <tr>\n      <th>...</th>\n      <td>...</td>\n      <td>...</td>\n      <td>...</td>\n      <td>...</td>\n      <td>...</td>\n      <td>...</td>\n      <td>...</td>\n      <td>...</td>\n      <td>...</td>\n      <td>...</td>\n      <td>...</td>\n      <td>...</td>\n      <td>...</td>\n      <td>...</td>\n      <td>...</td>\n      <td>...</td>\n      <td>...</td>\n      <td>...</td>\n      <td>...</td>\n      <td>...</td>\n    </tr>\n    <tr>\n      <th>413</th>\n      <td>0</td>\n      <td>0</td>\n      <td>8.0500</td>\n      <td>False</td>\n      <td>True</td>\n      <td>False</td>\n      <td>False</td>\n      <td>True</td>\n      <td>0</td>\n      <td>False</td>\n      <td>False</td>\n      <td>True</td>\n      <td>False</td>\n      <td>False</td>\n      <td>False</td>\n      <td>True</td>\n      <td>False</td>\n      <td>False</td>\n      <td>False</td>\n      <td>False</td>\n    </tr>\n    <tr>\n      <th>414</th>\n      <td>0</td>\n      <td>0</td>\n      <td>108.9000</td>\n      <td>True</td>\n      <td>False</td>\n      <td>True</td>\n      <td>False</td>\n      <td>False</td>\n      <td>0</td>\n      <td>True</td>\n      <td>False</td>\n      <td>False</td>\n      <td>False</td>\n      <td>False</td>\n      <td>False</td>\n      <td>True</td>\n      <td>False</td>\n      <td>False</td>\n      <td>False</td>\n      <td>False</td>\n    </tr>\n    <tr>\n      <th>415</th>\n      <td>0</td>\n      <td>0</td>\n      <td>7.2500</td>\n      <td>False</td>\n      <td>True</td>\n      <td>False</td>\n      <td>False</td>\n      <td>True</td>\n      <td>0</td>\n      <td>False</td>\n      <td>False</td>\n      <td>True</td>\n      <td>False</td>\n      <td>False</td>\n      <td>False</td>\n      <td>True</td>\n      <td>False</td>\n      <td>False</td>\n      <td>False</td>\n      <td>False</td>\n    </tr>\n    <tr>\n      <th>416</th>\n      <td>0</td>\n      <td>0</td>\n      <td>8.0500</td>\n      <td>False</td>\n      <td>True</td>\n      <td>False</td>\n      <td>False</td>\n      <td>True</td>\n      <td>0</td>\n      <td>False</td>\n      <td>False</td>\n      <td>True</td>\n      <td>False</td>\n      <td>False</td>\n      <td>False</td>\n      <td>True</td>\n      <td>False</td>\n      <td>False</td>\n      <td>False</td>\n      <td>False</td>\n    </tr>\n    <tr>\n      <th>417</th>\n      <td>1</td>\n      <td>1</td>\n      <td>22.3583</td>\n      <td>False</td>\n      <td>True</td>\n      <td>True</td>\n      <td>False</td>\n      <td>False</td>\n      <td>0</td>\n      <td>False</td>\n      <td>False</td>\n      <td>True</td>\n      <td>False</td>\n      <td>False</td>\n      <td>False</td>\n      <td>True</td>\n      <td>False</td>\n      <td>False</td>\n      <td>False</td>\n      <td>False</td>\n    </tr>\n  </tbody>\n</table>\n<p>418 rows × 20 columns</p>\n</div>",
            "text/plain": "     SibSp  Parch      Fare  sex_female  sex_male  embarked_C  embarked_Q  \\\n0        0      0    7.8292       False      True       False        True   \n1        1      0    7.0000        True     False       False       False   \n2        0      0    9.6875       False      True       False        True   \n3        0      0    8.6625       False      True       False       False   \n4        1      1   12.2875        True     False       False       False   \n..     ...    ...       ...         ...       ...         ...         ...   \n413      0      0    8.0500       False      True       False       False   \n414      0      0  108.9000        True     False        True       False   \n415      0      0    7.2500       False      True       False       False   \n416      0      0    8.0500       False      True       False       False   \n417      1      1   22.3583       False      True        True       False   \n\n     embarked_S  embarked_U  Pclass_1  Pclass_2  Pclass_3  Cat_Age_(0, 10]  \\\n0         False           0     False     False      True            False   \n1          True           0     False     False      True            False   \n2         False           0     False      True     False            False   \n3          True           0     False     False      True            False   \n4          True           0     False     False      True            False   \n..          ...         ...       ...       ...       ...              ...   \n413        True           0     False     False      True            False   \n414       False           0      True     False     False            False   \n415        True           0     False     False      True            False   \n416        True           0     False     False      True            False   \n417       False           0     False     False      True            False   \n\n     Cat_Age_(10, 20]  Cat_Age_(20, 30]  Cat_Age_(30, 40]  Cat_Age_(40, 50]  \\\n0               False             False              True             False   \n1               False             False             False              True   \n2               False             False             False             False   \n3               False              True             False             False   \n4               False              True             False             False   \n..                ...               ...               ...               ...   \n413             False             False              True             False   \n414             False             False              True             False   \n415             False             False              True             False   \n416             False             False              True             False   \n417             False             False              True             False   \n\n     Cat_Age_(50, 60]  Cat_Age_(60, 70]  Cat_Age_(70, 80]  \n0               False             False             False  \n1               False             False             False  \n2               False              True             False  \n3               False             False             False  \n4               False             False             False  \n..                ...               ...               ...  \n413             False             False             False  \n414             False             False             False  \n415             False             False             False  \n416             False             False             False  \n417             False             False             False  \n\n[418 rows x 20 columns]"
          },
          "metadata": {}
        }
      ],
      "execution_count": 4
    },
    {
      "id": "5db627aa-c34c-4cc0-b92f-b7f187d90d30",
      "cell_type": "code",
      "source": "from matplotlib import pyplot as plt\nimport numpy as np\nimport pandas as pd \nimport sklearn\nfrom sklearn.ensemble import RandomForestClassifier, AdaBoostClassifier, GradientBoostingClassifier\nfrom sklearn.metrics import f1_score \nfrom sklearn.model_selection import train_test_split\n\n\ndata = pd.read_csv(\"./preprocessed_data5.csv\") \n\nfeatures = data.drop([\"Survived\"], axis=1)\nlabels = data[\"Survived\"] \n\nfeatures_train, features_v_t, labels_train, labels_v_t = train_test_split(features, labels, test_size=0.4)\nfeatures_validation, features_test, labels_validation, labels_test = train_test_split(features_v_t, \n                                                                                      labels_v_t, \n                                                                                      test_size=0.5)\n\n\n\n",
      "metadata": {
        "trusted": true
      },
      "outputs": [],
      "execution_count": 5
    },
    {
      "id": "498f2f32-743e-49f2-8ba1-b15c8cd68331",
      "cell_type": "code",
      "source": "rf_model = RandomForestClassifier()\nrf_model.fit(features_train, labels_train)\n\ngb_model = GradientBoostingClassifier()\ngb_model.fit(features_train, labels_train)\n\nab_model = AdaBoostClassifier()\nab_model.fit(features_train, labels_train)\n\nrf_model.score(features_train, labels_train)",
      "metadata": {
        "trusted": true
      },
      "outputs": [
        {
          "execution_count": 5,
          "output_type": "execute_result",
          "data": {
            "text/plain": "0.951310861423221"
          },
          "metadata": {}
        }
      ],
      "execution_count": 6
    },
    {
      "id": "46f25585-f524-4199-adc9-1b22a039b435",
      "cell_type": "code",
      "source": "gb_model.score(features_train, labels_train)",
      "metadata": {
        "trusted": true
      },
      "outputs": [
        {
          "execution_count": 6,
          "output_type": "execute_result",
          "data": {
            "text/plain": "0.900749063670412"
          },
          "metadata": {}
        }
      ],
      "execution_count": 7
    },
    {
      "id": "1c07ce9c-6603-428b-9ae2-1780d3815655",
      "cell_type": "code",
      "source": "ab_model.score(features_train, labels_train)",
      "metadata": {
        "trusted": true
      },
      "outputs": [
        {
          "execution_count": 7,
          "output_type": "execute_result",
          "data": {
            "text/plain": "0.8108614232209738"
          },
          "metadata": {}
        }
      ],
      "execution_count": 8
    },
    {
      "id": "6bb4061f-b7f3-46d3-8313-c2260c1423af",
      "cell_type": "code",
      "source": "from sklearn.model_selection import GridSearchCV\n\nrf_model_improved = RandomForestClassifier(random_state=0)\n\nparam_grid = { \n    'n_estimators': [50, 100, 200, 300], \n    'max_depth': [2, 3, 4, 5, 10], \n    'min_samples_split': [2, 5, 10], \n    'max_features': ['sqrt', 'log2'] \n}\n\ngrid = GridSearchCV(rf_model, param_grid, cv=5, scoring='accuracy', n_jobs=-1) \ngrid.fit(features_train, labels_train) \n\ngrid.best_params_",
      "metadata": {
        "trusted": true
      },
      "outputs": [
        {
          "execution_count": 8,
          "output_type": "execute_result",
          "data": {
            "text/plain": "{'max_depth': 5,\n 'max_features': 'log2',\n 'min_samples_split': 10,\n 'n_estimators': 50}"
          },
          "metadata": {}
        }
      ],
      "execution_count": 9
    },
    {
      "id": "3208f2c6-63a8-42da-8ab2-a0b4b9ab9f2c",
      "cell_type": "code",
      "source": "grid.best_score_",
      "metadata": {
        "trusted": true
      },
      "outputs": [
        {
          "execution_count": 9,
          "output_type": "execute_result",
          "data": {
            "text/plain": "np.float64(0.823928760359725)"
          },
          "metadata": {}
        }
      ],
      "execution_count": 10
    },
    {
      "id": "1578a91d-30ec-4e29-b549-2c118613f724",
      "cell_type": "code",
      "source": "new_rf_model = grid.best_estimator_\nnew_rf_model.score(features_validation, labels_validation)",
      "metadata": {
        "trusted": true
      },
      "outputs": [
        {
          "execution_count": 11,
          "output_type": "execute_result",
          "data": {
            "text/plain": "0.797752808988764"
          },
          "metadata": {}
        }
      ],
      "execution_count": 12
    },
    {
      "id": "ef1d4958-1987-4161-89c4-6b316054f7bf",
      "cell_type": "code",
      "source": "new_rf_model.score(features_test, labels_test)",
      "metadata": {
        "trusted": true
      },
      "outputs": [
        {
          "execution_count": 12,
          "output_type": "execute_result",
          "data": {
            "text/plain": "0.8324022346368715"
          },
          "metadata": {}
        }
      ],
      "execution_count": 13
    },
    {
      "id": "1b2d6c65-7734-493a-8c7d-8b5443f46bda",
      "cell_type": "code",
      "source": "test_data = pd.read_csv(\"./preprocessed_TEST_data3.csv\", index_col=None) \n\ntest_data_raw = pd.read_csv(\"./test_data.csv\", index_col=None)\ntestLabels = test_data_raw[\"PassengerId\"]\n\nrf_Result = np.array(new_rf_model.predict(test_data))\n\npassenger_IDs = np.arange(892, 892 + len(gb_model.predict(test_data)))\n\ndf = pd.DataFrame({\n    'PassengerId': passenger_IDs, \n    'Survived': rf_Result\n}) \n\ndf",
      "metadata": {
        "trusted": true
      },
      "outputs": [
        {
          "execution_count": 14,
          "output_type": "execute_result",
          "data": {
            "text/html": "<div>\n<style scoped>\n    .dataframe tbody tr th:only-of-type {\n        vertical-align: middle;\n    }\n\n    .dataframe tbody tr th {\n        vertical-align: top;\n    }\n\n    .dataframe thead th {\n        text-align: right;\n    }\n</style>\n<table border=\"1\" class=\"dataframe\">\n  <thead>\n    <tr style=\"text-align: right;\">\n      <th></th>\n      <th>PassengerId</th>\n      <th>Survived</th>\n    </tr>\n  </thead>\n  <tbody>\n    <tr>\n      <th>0</th>\n      <td>892</td>\n      <td>0</td>\n    </tr>\n    <tr>\n      <th>1</th>\n      <td>893</td>\n      <td>0</td>\n    </tr>\n    <tr>\n      <th>2</th>\n      <td>894</td>\n      <td>0</td>\n    </tr>\n    <tr>\n      <th>3</th>\n      <td>895</td>\n      <td>0</td>\n    </tr>\n    <tr>\n      <th>4</th>\n      <td>896</td>\n      <td>0</td>\n    </tr>\n    <tr>\n      <th>...</th>\n      <td>...</td>\n      <td>...</td>\n    </tr>\n    <tr>\n      <th>413</th>\n      <td>1305</td>\n      <td>0</td>\n    </tr>\n    <tr>\n      <th>414</th>\n      <td>1306</td>\n      <td>1</td>\n    </tr>\n    <tr>\n      <th>415</th>\n      <td>1307</td>\n      <td>0</td>\n    </tr>\n    <tr>\n      <th>416</th>\n      <td>1308</td>\n      <td>0</td>\n    </tr>\n    <tr>\n      <th>417</th>\n      <td>1309</td>\n      <td>0</td>\n    </tr>\n  </tbody>\n</table>\n<p>418 rows × 2 columns</p>\n</div>",
            "text/plain": "     PassengerId  Survived\n0            892         0\n1            893         0\n2            894         0\n3            895         0\n4            896         0\n..           ...       ...\n413         1305         0\n414         1306         1\n415         1307         0\n416         1308         0\n417         1309         0\n\n[418 rows x 2 columns]"
          },
          "metadata": {}
        }
      ],
      "execution_count": 15
    },
    {
      "id": "a4ede01e-f9af-4b1d-abce-6afb721e8e48",
      "cell_type": "code",
      "source": "df.to_csv(\"result2.csv\", index=None)",
      "metadata": {
        "trusted": true
      },
      "outputs": [],
      "execution_count": 17
    },
    {
      "id": "b1502e0f-18e0-4513-b627-1614efc9cf4e",
      "cell_type": "code",
      "source": "",
      "metadata": {
        "trusted": true
      },
      "outputs": [],
      "execution_count": null
    }
  ]
}